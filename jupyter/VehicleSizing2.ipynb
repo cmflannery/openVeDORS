{
 "cells": [
  {
   "cell_type": "code",
   "execution_count": 66,
   "metadata": {
    "collapsed": true
   },
   "outputs": [],
   "source": [
    "import numpy as np\n",
    "import matplotlib.pyplot as plt\n",
    "import math as math"
   ]
  },
  {
   "cell_type": "code",
   "execution_count": 67,
   "metadata": {
    "collapsed": true
   },
   "outputs": [],
   "source": [
    "#Constants\n",
    "gravity = 32.17405\n",
    "R = 1545.348963;      # universal gas constant; units - ft*lbf/R*lb-mol\n",
    "atm_to_psi = 14.6959; # units - psi/atm\n",
    "Factor_of_Safety = 1.4;\n"
   ]
  },
  {
   "cell_type": "code",
   "execution_count": 68,
   "metadata": {
    "collapsed": true
   },
   "outputs": [],
   "source": [
    "# Rocket Inputs\n",
    "#Thrust Chamber Design Parameters\n",
    "# Using P_exit = 1, and plots from\n",
    "# http://www.braeunig.us/space/comb-OM.htm P_Chamber, T_Chamber, y, Gas_Molecular_Weight can be extracted\n",
    "#     after choosing the mixture ratio.\n",
    "Characteristic_Length = 40    # units - inches; interpolated use table 4-1 from Huzel+Huang Modern Engineering for Design of LRES \n",
    "Thrust = 1000                 # units - pounds\n",
    "T_Chamber_C = 2900.3          # Chamber temperature; units - Celcius\n",
    "P_Chamber = 20*atm_to_psi     # Chamber pressure; units - atm\n",
    "P_Exit =  0.82206329*atm_to_psi     # Exit pressure - sea level; units - atm\n",
    "P_Ambient = 0.92*atm_to_psi   # Ambient pressure - sea level; units - atm\n",
    "Mixture_Ratio = 2.62          # O/F mass ratio; unitless\n",
    "Gas_Molecular_Weight = 18.833;# units - amu\n",
    "y = 1.1510;                   # Ratio of Specific Heats - unitless\n",
    "Working_Stress = 80000        # units - psi; yield stress of inconel walling\n",
    "roughness = 20*10**-6.0*3.28084        #um -> ft"
   ]
  },
  {
   "cell_type": "code",
   "execution_count": 69,
   "metadata": {
    "collapsed": true
   },
   "outputs": [],
   "source": [
    "## Adiabatic Flame Temperature - Chamber Temperature; CONVERSIONS\n",
    "T_Chamber_K = T_Chamber_C + 273.15; # units - Kelvin\n",
    "T_Chamber_F = T_Chamber_C * 1.8 + 32; # units - Fahrenheit\n",
    "T_Chamber_R = T_Chamber_F + 459.67; # units - Rankine"
   ]
  },
  {
   "cell_type": "code",
   "execution_count": 70,
   "metadata": {
    "collapsed": false
   },
   "outputs": [
    {
     "name": "stdout",
     "output_type": "stream",
     "text": [
      "3.1609257139331888 12.271409970772131 1.7198059593843174 0.023291666666666665 0.3490658503988659 3.125 13.991215930156448\n"
     ]
    }
   ],
   "source": [
    "\n",
    "#Rocket Dimensions\n",
    "\n",
    "#Rocket Body Dimensions\n",
    "length_body = 70.31/12\n",
    "diameter = 8/12\n",
    "A_body = length_body*diameter*math.pi\n",
    "A_ref = (diameter/2)**2*np.pi\n",
    "\n",
    "#Nosecone Dimensions\n",
    "length_cone = 36/12\n",
    "coneAngle = math.atan(diameter/2/length_cone)\n",
    "A_cone = np.pi*diameter/2*math.sqrt((diameter/2)**2+ (36/12)**2)\n",
    "\n",
    "#Engine Dimenions\n",
    "length_engine = 12/12\n",
    "diameter_engine = 3.707/12\n",
    "A_motor = np.pi*(diameter_engine/2)**2\n",
    "A_engine = (np.pi*diameter/2*math.sqrt(\n",
    "        (diameter/2)**2\n",
    "        +(length_engine*(1+(diameter-diameter_engine)/diameter_engine))**2\n",
    "    ) -np.pi*diameter_engine/2*math.sqrt(\n",
    "        (diameter_engine/2)**2\n",
    "        +(length_engine*(diameter-diameter_engine)/diameter_engine)**2\n",
    "    ))\n",
    "\n",
    "#Characterisitic Dimensions\n",
    "length = length_engine+length_body+length_cone\n",
    "A_rocket = A_body+A_engine\n",
    "\n",
    "# Fin Dimensions\n",
    "finThickness = .10/12\n",
    "A_fins = 300/144*2*3*.25\n",
    "meanChord = 15/12\n",
    "leadingEdgeAngle = math.atan(1/2)\n",
    "A_fin = finThickness*22.36/12*3*.5\n",
    "\n",
    "\n",
    "#exhaustVelocity = 9154.2\n",
    "M0 = 154.48 # wet mass\n",
    "M1 = 113.44 # dry mass\n",
    "mdot = 3.7448*3/4\n",
    "print(A_cone,A_body,A_engine,A_fin,A_ref,A_fins,A_rocket)"
   ]
  },
  {
   "cell_type": "code",
   "execution_count": 71,
   "metadata": {
    "collapsed": false
   },
   "outputs": [],
   "source": [
    "def physStep(t0, t1, a0, v0, x0, burning):\n",
    "    x1 = x0\n",
    "    v1 = v0\n",
    "    a1 = a0\n",
    "    \n",
    "    lx = 1000\n",
    "    lv = 1000\n",
    "    la = 1000\n",
    "    pas = 0\n",
    "    while (np.abs(lx-x1) > 1e-3) and (np.abs(lv-v1) > 1e-3):\n",
    "        lx = x1\n",
    "        lv = v1\n",
    "        la = a1\n",
    "        pas+=1\n",
    "        if pas > 20:\n",
    "            #code is stuck\n",
    "            print(t0,t1,a0,v0,x0,burning)\n",
    "            error()\n",
    "            \n",
    "        if burning:\n",
    "            dv = (exhaustVelocity(x1)*np.log(M0/(M0 - mdot*t1))\n",
    "                  -exhaustVelocity(x0)*np.log(M0/(M0 - mdot*t0))\n",
    "                  -gravity*(t1-t0)\n",
    "                  -math.copysign(1,v1)*axialDrag(v1,x1,burningBool)/(M0 - mdot*t1)*(t1-t0)\n",
    "                 )\n",
    "        else:\n",
    "            dv = (-gravity*(t1-t0) \n",
    "                  -math.copysign(1,v1)*axialDrag(v1,x1,burningBool)/(M1)*(t1-t0)\n",
    "                 )\n",
    "        a1 = dv / (t1-t0)\n",
    "        v1 = v0 + dv\n",
    "        dx = v1 * (t1-t0)\n",
    "        x1 = x0 + dx\n",
    "    v = math.fabs(v1)\n",
    "    M = v/math.sqrt(1.4*atmosphericPressure(x1)*144*gravity/atmosphericDensity(x1))\n",
    "\n",
    "    #print('here now')\n",
    "    return [a1, v1, x1]"
   ]
  },
  {
   "cell_type": "code",
   "execution_count": 72,
   "metadata": {
    "collapsed": false
   },
   "outputs": [],
   "source": [
    "def exhaustVelocity(h):\n",
    "    R = 1545.348963;      # universal gas constant; units - ft*lbf/R*lb-mol\n",
    "    T_Chamber_C = 2900.3;          # Chamber temperature; units - Celcius\n",
    "    T_Chamber_R = T_Chamber_C*1.8+32+459.67;          # Chamber temperature; units - Celcius\n",
    "    Gas_Molecular_Weight = 18.833; # units - amu\n",
    "    y = 1.1510;                    # Ratio of Specific Heats - unitless\n",
    "    P_Ambient = atmosphericPressure(h)\n",
    "    Expansion_Ratio = (2/(y+1))**(1/(y-1)) * (P_Chamber/P_Exit)**(1/y) / ( (y+1)/(y-1) * (1 - (P_Exit/P_Chamber)**(1-1/y)) )**.5 # unitless\n",
    "    c_star = (gravity*y*R*T_Chamber_R/Gas_Molecular_Weight)**(.5)/(y*((2/(y+1))**((y+1)/(y-1)))**.5) # ft/second\n",
    "    lamda = .985\n",
    "    Cf = lamda*( (2*y*y)/(y-1) * (2/(y+1))**((y+1)/(y-1)) * (1 - (P_Exit/P_Chamber)**((y-1)/y)) )**(1/2) + Expansion_Ratio*(P_Exit-P_Ambient)/P_Chamber\n",
    "    return c_star*Cf*.8*math.sin(math.radians(80))\n"
   ]
  },
  {
   "cell_type": "code",
   "execution_count": 73,
   "metadata": {
    "collapsed": false
   },
   "outputs": [],
   "source": [
    "def axialDrag(v,x,burningBool):\n",
    "    v = math.fabs(v)\n",
    "    M = v/math.sqrt(1.4*atmosphericPressure(x)*144*gravity/atmosphericDensity(x))\n",
    "    return (skinDragCoefficient(M,v,x)+noseDragCoefficient()+baseDragCoefficient(M,burningBool)+finEdgeDragCoefficient(M))*A_ref*0.5*atmosphericDensity(x)*v**2\n"
   ]
  },
  {
   "cell_type": "code",
   "execution_count": 74,
   "metadata": {
    "collapsed": true
   },
   "outputs": [],
   "source": [
    "def noseDragCoefficient():\n",
    "    return 0.8*math.sin(coneAngle)**2*A_ref/A_ref"
   ]
  },
  {
   "cell_type": "code",
   "execution_count": 75,
   "metadata": {
    "collapsed": false
   },
   "outputs": [],
   "source": [
    "def skinDragCoefficient(M,v,x):\n",
    "    reynolds = v*length/atmosphericKinematicViscosity(x)\n",
    "    critReynolds = 51*(roughness/length)**-1.039\n",
    "    #compression correction\n",
    "    if M < 1:\n",
    "        k = (1-0.1*M**2)\n",
    "    else:\n",
    "        k = (1+0.15*M**2)**-0.58-0.02211658591\n",
    "    #coefficient friction\n",
    "    if reynolds < 10^4:\n",
    "        cf = 1.48*10**-2\n",
    "    elif reynolds < critReynolds:\n",
    "        cf = (1.5*np.log(reynolds) - 5.6)**-2\n",
    "    else:\n",
    "        cf = 0.032*(roughness/length)**0.2\n",
    "        if k < (1+0.18*M**2)**-1:\n",
    "            k = (1+0.18*M**2)**-1\n",
    "    return k*cf*((1+(2*length/diameter)**-1)*A_rocket + (1+2*finThickness/meanChord)*A_fins)/A_ref"
   ]
  },
  {
   "cell_type": "code",
   "execution_count": 76,
   "metadata": {
    "collapsed": false
   },
   "outputs": [],
   "source": [
    "def baseDragCoefficient(M,burningBool):\n",
    "    if M < 1:\n",
    "        cd = 0.12+0.13*M**2\n",
    "    else:\n",
    "        cd = 0.25/M\n",
    "    gamma = 0.5*length/(A_ref**0.5 - A_motor**0.5)\n",
    "    if gamma < 1:\n",
    "        k = 1\n",
    "    elif gamma < 3:\n",
    "        k = (3-gamma)/2\n",
    "    else:\n",
    "        return 0\n",
    "    return cd*A_base(burningBool)/A_ref*k\n",
    "def A_base(burningBool):\n",
    "    if burningBool:\n",
    "        return A_ref-A_motor\n",
    "    else:\n",
    "        return A_ref\n"
   ]
  },
  {
   "cell_type": "code",
   "execution_count": 77,
   "metadata": {
    "collapsed": false
   },
   "outputs": [],
   "source": [
    "def finEdgeDragCoefficient(M):\n",
    "    if M < 0.9:\n",
    "        cd = (1-M**2)**-0.417 -1\n",
    "    elif M < 1:\n",
    "        cd = 1 - 1.785*(M - 0.9)-0.00203318785\n",
    "    else:\n",
    "        cd = 1.214 - 0.502*M**-2 + 0.1095*M**-4 -0.0001785\n",
    "    return cd*math.cos(leadingEdgeAngle)**2*A_fin/A_ref\n"
   ]
  },
  {
   "cell_type": "code",
   "execution_count": 78,
   "metadata": {
    "collapsed": false
   },
   "outputs": [],
   "source": [
    "def atmosphericKinematicViscosity(h):\n",
    "    return 1.64*10**-4*atmosphericDensity(0)/atmosphericDensity(h)\n"
   ]
  },
  {
   "cell_type": "code",
   "execution_count": 79,
   "metadata": {
    "collapsed": false
   },
   "outputs": [],
   "source": [
    "def atmosphericDensity(h):\n",
    "    h*=0.3048 # convert to meters\n",
    "#    Pb, Tb, Lb, hb\n",
    "    Rb = 8.3145\n",
    "    g = 9.80665\n",
    "    M = 0.0289644\n",
    "    if h < 11000:\n",
    "        Pb = 1.2250\n",
    "        Tb = 288.15\n",
    "        Lb = -0.0065\n",
    "        hb = 0\n",
    "    elif h < 20000:\n",
    "        Pb = 0.36391\n",
    "        Tb = 216.65\n",
    "        hb = 11000\n",
    "        return (Pb*0.062428)*math.exp(-g*M*(h - hb)/(Rb*Tb))\n",
    "    elif h < 32000:\n",
    "        Pb = 0.08803\n",
    "        Tb = 216.65\n",
    "        Lb = 0.001\n",
    "        hb = 20000\n",
    "    elif h < 47000:\n",
    "        Pb = 0.01322\n",
    "        Tb = 216.65\n",
    "        Lb = 0.0028\n",
    "        hb = 32000\n",
    "    elif h < 51000:\n",
    "        Pb = 0.00143\n",
    "        Tb = 270.65\n",
    "        hb = 47000\n",
    "        return (Pb*0.062428)*math.exp(-g*M*(h - hb)/(Rb*Tb))\n",
    "    elif h < 71000:\n",
    "        Pb = 0.00086\n",
    "        Tb = 270.65\n",
    "        Lb = -0.0028\n",
    "        hb = 51000\n",
    "    else:\n",
    "        Pb = .000064\n",
    "        Tb = 214.65\n",
    "        Lb = -0.002\n",
    "        hb = 232940\n",
    "    return (Pb*0.062428)*(Tb/(Tb+Lb*(h - hb)))**(1 + g*M/(Rb*Lb))"
   ]
  },
  {
   "cell_type": "code",
   "execution_count": 80,
   "metadata": {
    "collapsed": false
   },
   "outputs": [],
   "source": [
    "def atmosphericPressure(h):\n",
    "#    Pb, Tb, Lb, hb\n",
    "    Rb = 89494.596\n",
    "    g = 32.17405\n",
    "    M = 28.9644\n",
    "    if h < 36089:\n",
    "        Pb = 101325.00\n",
    "        Tb = 288.15\n",
    "        Lb = -0.0019812\n",
    "        hb = 0\n",
    "    elif h < 65617:\n",
    "        Pb = 22632.10\n",
    "        Tb = 216.65\n",
    "        hb = 36089\n",
    "        return (Pb/6894.76)*math.exp(-g*M*(h - hb)/(Rb*Tb))\n",
    "    elif h < 104987:\n",
    "        Pb = 5474.89\n",
    "        Tb = 216.65\n",
    "        Lb = 0.0003048\n",
    "        hb = 65617\n",
    "    elif h < 154199:\n",
    "        Pb = 868.02\n",
    "        Tb = 228.65\n",
    "        Lb = 0.00085344\n",
    "        hb = 104987\n",
    "    elif h < 167323:\n",
    "        Pb = 110.91\n",
    "        Tb = 270.65\n",
    "        hb = 154199\n",
    "        return (Pb/6894.76)*math.exp(-g*M*(h - hb)/(Rb*Tb))\n",
    "    elif h < 232940:\n",
    "        Pb = 66.94\n",
    "        Tb = 270.65\n",
    "        Lb = -0.00085344\n",
    "        hb = 167323\n",
    "    else:\n",
    "        Pb = 3.96\n",
    "        Tb = 214.65\n",
    "        Lb = -0.0006096\n",
    "        hb = 232940\n",
    "    return (Pb/6894.76)*(Tb/(Tb+Lb*(h - hb)))**(g*M/(Rb*Lb))"
   ]
  },
  {
   "cell_type": "code",
   "execution_count": 81,
   "metadata": {
    "collapsed": false,
    "scrolled": true
   },
   "outputs": [
    {
     "name": "stdout",
     "output_type": "stream",
     "text": [
      "Max Velocity = 1553.07252286 ft/s\n",
      "Max Altitude = 40239.0638364 ft\n"
     ]
    },
    {
     "data": {
      "image/png": "[encoded data removed]",
      "text/plain": [
       "<matplotlib.figure.Figure at 0x218bb2652b0>"
      ]
     },
     "metadata": {},
     "output_type": "display_data"
    },
    {
     "data": {
      "image/png": "[encoded data removed]",
      "text/plain": [
       "<matplotlib.figure.Figure at 0x218bb2f24e0>"
      ]
     },
     "metadata": {},
     "output_type": "display_data"
    },
    {
     "data": {
      "image/png": "[encoded data removed]",
      "text/plain": [
       "<matplotlib.figure.Figure at 0x218bb35a240>"
      ]
     },
     "metadata": {},
     "output_type": "display_data"
    }
   ],
   "source": [
    "burnTime = 10.96*4/3# seconds\n",
    "totalTime = 110 # seconds\n",
    "totalSteps = totalTime*100\n",
    "burnSteps = int(burnTime/totalTime*totalSteps)\n",
    "coastSteps = totalSteps-burnSteps\n",
    "burnTimeLinspace = np.linspace(0,burnTime,burnSteps)\n",
    "totalTimeLinspace = np.linspace(0,totalTime,totalSteps)\n",
    "acc = np.zeros([totalSteps]);\n",
    "vel = np.zeros([totalSteps]);\n",
    "pos = np.zeros([totalSteps]);\n",
    "\n",
    "pos[0] = 2066;\n",
    "acc[0] = -32.174;\n",
    "\n",
    "# TAKES A WHILE, Run at your own risk\n",
    "# posmax = 0\n",
    "# bestP_Exit = 0\n",
    "# for j in range(3*1470,9*1470,1):\n",
    "#    P_Exit = j/1000\n",
    "#    for i in range(1,burnSteps):\n",
    "#        burningBool = True\n",
    "#        [acc[i], vel[i], pos[i]] = physStep((i-1)*totalTime/totalSteps,i*totalTime/totalSteps,acc[0],vel[i-1],pos[i-1], burningBool);\n",
    "#    temp = np.max(pos)\n",
    "#    if temp > posmax:\n",
    "#        posmax = temp\n",
    "#        bestP_Exit = P_Exit\n",
    "#        #print(j, bestP_Exit,temp)\n",
    "# P_Exit = bestP_Exit\n",
    "# print(P_Exit)\n",
    "for i in range(1,burnSteps):\n",
    "    burningBool = True\n",
    "    [acc[i], vel[i], pos[i]] = physStep((i-1)*totalTime/totalSteps,i*totalTime/totalSteps,acc[0],vel[i-1],pos[i-1], burningBool);\n",
    "\n",
    "for i in range(burnSteps,totalSteps):\n",
    "    burningBool = False\n",
    "    [acc[i], vel[i], pos[i]] = physStep((i-1)*totalTime/totalSteps,i*totalTime/totalSteps,acc[0],vel[i-1],pos[i-1], burningBool);\n",
    "\n",
    "print('Max Velocity =', np.max(vel), 'ft/s')\n",
    "print('Max Altitude =', np.max(pos), 'ft')\n",
    "\n",
    "plt.figure(1)\n",
    "plt.grid()\n",
    "plt.title('Acceleration (burn-time only)')\n",
    "plt.xlabel('Time (s)')\n",
    "plt.ylabel('Acceleration (ft/s^2)')\n",
    "plt.plot(burnTimeLinspace,acc[0:burnSteps],'r')\n",
    "\n",
    "plt.figure(2)\n",
    "plt.grid()\n",
    "plt.title('Velocity (burn-time only)')\n",
    "plt.xlabel('Time (s)')\n",
    "plt.ylabel('Velocity (ft/s)')\n",
    "plt.plot(burnTimeLinspace,vel[0:burnSteps],'r')\n",
    "\n",
    "plt.figure(3)\n",
    "plt.grid()\n",
    "plt.title('Altitude (total time)')\n",
    "plt.xlabel('Time (s)')\n",
    "plt.ylabel('Altitude (ft)')\n",
    "plt.plot(totalTimeLinspace,pos,'b')\n",
    "plt.plot(burnTimeLinspace,pos[0:burnSteps],'r')\n",
    "plt.plot([0,totalTime],[np.max(pos),np.max(pos)], 'k')\n",
    "plt.show()\n"
   ]
  },
  {
   "cell_type": "code",
   "execution_count": null,
   "metadata": {
    "collapsed": true
   },
   "outputs": [],
   "source": []
  }
 ],
 "metadata": {
  "kernelspec": {
   "display_name": "Python 3",
   "language": "python",
   "name": "python3"
  },
  "language_info": {
   "codemirror_mode": {
    "name": "ipython",
    "version": 3
   },
   "file_extension": ".py",
   "mimetype": "text/x-python",
   "name": "python",
   "nbconvert_exporter": "python",
   "pygments_lexer": "ipython3",
   "version": "3.6.0"
  }
 },
 "nbformat": 4,
 "nbformat_minor": 2
}
