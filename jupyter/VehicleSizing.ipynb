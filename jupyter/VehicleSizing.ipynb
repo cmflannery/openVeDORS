{
 "cells": [
  {
   "cell_type": "code",
   "execution_count": 3,
   "metadata": {
    "collapsed": true
   },
   "outputs": [],
   "source": [
    "import numpy as np\n",
    "import matplotlib.pyplot as plt"
   ]
  },
  {
   "cell_type": "code",
   "execution_count": 58,
   "metadata": {
    "collapsed": false
   },
   "outputs": [],
   "source": [
    "def physStep(t0, t1, a0, v0, x0):\n",
    "    x1 = 0\n",
    "    v1 = 0\n",
    "    a1 = 0\n",
    "    \n",
    "    lx = 1000\n",
    "    lv = 1000\n",
    "    la = 1000\n",
    "    \n",
    "    exhaustVelocity = 9154.2\n",
    "    densityCoefficient = 0.076474252\n",
    "    gravity = 32.174\n",
    "    Tb = 288.15\n",
    "    M0 = 191.5  # wet mass\n",
    "    mdot = 3.51\n",
    "    while (np.abs(lx-x1) > 1e-6) and (np.abs(lv-v1) > 1e-6) and (np.abs(la-a1) > 1e-6):\n",
    "        lx = x1\n",
    "        lv = v1\n",
    "        la = a1\n",
    "        dv = (exhaustVelocity*np.log(M0/(M0 - mdot*t1)) - gravity*t1 -\n",
    "              (exhaustVelocity*np.log(M0/(M0 - mdot*t0)) - gravity*t0))\n",
    "        da = a0 + dv / (t1-t0)\n",
    "        v1 = v0 + dv\n",
    "        dx = v1 * (t1-t0)\n",
    "        x1 = x0 + dx\n",
    "        a1 = a0 + da\n",
    "        \n",
    "    return [a1, v1, x1]"
   ]
  },
  {
   "cell_type": "code",
   "execution_count": 62,
   "metadata": {
    "collapsed": false
   },
   "outputs": [
    {
     "data": {
      "image/png": "[encoded data removed]",
      "text/plain": [
       "<matplotlib.figure.Figure at 0x111334400>"
      ]
     },
     "metadata": {},
     "output_type": "display_data"
    }
   ],
   "source": [
    "steps = 1000;\n",
    "burnTime = 9.99  # s\n",
    "burnLinspace = np.linspace(0,burnTime,steps)\n",
    "acc = np.zeros([steps]);\n",
    "vel = np.zeros([steps]);\n",
    "pos = np.zeros([steps]);\n",
    "\n",
    "pos[0] = 2066;\n",
    "acc[0] = -32.174;\n",
    "\n",
    "for i in range(1,steps):\n",
    "    [acc[i], vel[i], pos[i]] = physStep((i-1)*10/steps,i*10/steps,acc[0],vel[i-1],pos[i-1]);\n",
    "    \n",
    "plt.figure(1)\n",
    "plt.plot(burnLinspace,acc)\n",
    "plt.grid()\n",
    "plt.xlabel('Time (s)')\n",
    "plt.ylabel('Acceleration (f/s^2)')\n",
    "plt.show()\n",
    "# figure(2)\n",
    "# plot(linspace(0,burnTime,steps),vel)\n",
    "# grid()\n",
    "# xlabel('Time (s)')\n",
    "# ylabel('Velocity (f/s)')\n",
    "# figure(3)\n",
    "# plot(linspace(0,burnTime,steps),pos)\n",
    "# grid()\n",
    "# xlabel('Time (s)')\n",
    "# ylabel('Position (feet)')\n",
    "# shg()"
   ]
  },
  {
   "cell_type": "code",
   "execution_count": null,
   "metadata": {
    "collapsed": true
   },
   "outputs": [],
   "source": []
  },
  {
   "cell_type": "code",
   "execution_count": null,
   "metadata": {
    "collapsed": true
   },
   "outputs": [],
   "source": []
  }
 ],
 "metadata": {
  "kernelspec": {
   "display_name": "Python 3",
   "language": "python",
   "name": "python3"
  },
  "language_info": {
   "codemirror_mode": {
    "name": "ipython",
    "version": 3
   },
   "file_extension": ".py",
   "mimetype": "text/x-python",
   "name": "python",
   "nbconvert_exporter": "python",
   "pygments_lexer": "ipython3",
   "version": "3.6.0"
  }
 },
 "nbformat": 4,
 "nbformat_minor": 2
}
