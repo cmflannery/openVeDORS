{
 "cells": [
  {
   "cell_type": "code",
   "execution_count": 1,
   "metadata": {
    "collapsed": false
   },
   "outputs": [
    {
     "ename": "ModuleNotFoundError",
     "evalue": "No module named 'atmos.calc_pressure'; 'atmos' is not a package",
     "output_type": "error",
     "traceback": [
      "\u001b[0;31m---------------------------------------------------------------------------\u001b[0m",
      "\u001b[0;31mModuleNotFoundError\u001b[0m                       Traceback (most recent call last)",
      "\u001b[0;32m<ipython-input-1-9a85a58e62a1>\u001b[0m in \u001b[0;36m<module>\u001b[0;34m()\u001b[0m\n\u001b[1;32m      1\u001b[0m \u001b[1;32mimport\u001b[0m \u001b[0mnumpy\u001b[0m \u001b[1;32mas\u001b[0m \u001b[0mnp\u001b[0m\u001b[1;33m\u001b[0m\u001b[0m\n\u001b[1;32m      2\u001b[0m \u001b[1;32mimport\u001b[0m \u001b[0mmatplotlib\u001b[0m\u001b[1;33m.\u001b[0m\u001b[0mpyplot\u001b[0m \u001b[1;32mas\u001b[0m \u001b[0mplt\u001b[0m\u001b[1;33m\u001b[0m\u001b[0m\n\u001b[0;32m----> 3\u001b[0;31m \u001b[1;32mimport\u001b[0m \u001b[0matmos\u001b[0m\u001b[1;33m.\u001b[0m\u001b[0mcalc_pressure\u001b[0m \u001b[1;32mas\u001b[0m \u001b[0matmosphericPressure\u001b[0m\u001b[1;33m\u001b[0m\u001b[0m\n\u001b[0m",
      "\u001b[0;31mModuleNotFoundError\u001b[0m: No module named 'atmos.calc_pressure'; 'atmos' is not a package"
     ]
    }
   ],
   "source": [
    "import numpy as np\n",
    "import matplotlib.pyplot as plt\n",
    "import atmos"
   ]
  },
  {
   "cell_type": "code",
   "execution_count": null,
   "metadata": {
    "collapsed": false
   },
   "outputs": [],
   "source": [
    "def ft_to_m(arg):\n",
    "    return 3.28084*arg\n",
    "\n",
    "def physStep(t0, t1, a0, v0, x0, burning):\n",
    "    x1 = 0\n",
    "    v1 = 0\n",
    "    a1 = 0\n",
    "    \n",
    "    lx = 1000\n",
    "    lv = 1000\n",
    "    la = 1000\n",
    "    \n",
    "    exhaustVelocity = 9154.2\n",
    "    densityCoefficient = 0.076474252\n",
    "    gravity = 32.174\n",
    "    Tb = 288.15\n",
    "    M0 = 191.5  # wet mass\n",
    "    mdot = 3.51\n",
    "    Cd = 0.5\n",
    "    radius = 4  # in\n",
    "    A = radius**2*np.pi\n",
    "    \n",
    "    # sea-level constants\n",
    "    rho0 = 0.0765  # lb/ft^3\n",
    "    temp0 = 70  # deg F\n",
    "    pres0 = 14.7  # psi\n",
    "    \n",
    "    while (np.abs(lx-x1) > 1e-6) and (np.abs(lv-v1) > 1e-6) and (np.abs(la-a1) > 1e-6):\n",
    "        lx = x1\n",
    "        lv = v1\n",
    "        la = a1\n",
    "        \n",
    "        # theta := ratio of temperature to sea-level temperature\n",
    "        # delta := ratio of pressure to sea-level pressure\n",
    "        # sigma := ratio of density to sea-level density\n",
    "        print('x0=', x0)\n",
    "        (sigma0, theta0, delta0) = atmos.calc_pressure(x0)  # expects value in meters\n",
    "        (sigma1, theta1, delta1) = atmos.calc_pressure(x1)\n",
    "        \n",
    "        if burning:\n",
    "            dv = (((exhaustVelocity*np.log(M0/(M0 - mdot*t1)) - gravity*t1 -\n",
    "                  (exhaustVelocity*np.log(M0/(M0 - mdot*t0)) - gravity*t0))) -\n",
    "                     (0.5*Cd*A*v1**2*sigma1*rho0)/(M0 - M0*t1)*(t1-t0) +\n",
    "                     (0.5*Cd*A*v0**2*sigma0*rho0)/(M0 - M0*t0)*(t1-t0))\n",
    "        else:\n",
    "            dv = (- gravity*t1 + gravity*t0 -\n",
    "                     (0.5*Cd*A*v1**2*sigma1*rho0)/(M0 - M0*t1)*(t1-t0) +\n",
    "                     (0.5*Cd*A*v0**2*sigma0*rho0)/(M0 - M0*t0)*(t1-t0))\n",
    "        da = a0 + dv / (t1-t0)\n",
    "        v1 = v0 + dv\n",
    "        dx = v1 * (t1-t0)\n",
    "        x1 = x0 + dx\n",
    "        a1 = a0 + da\n",
    "    \n",
    "    return [a1, v1, x1]"
   ]
  },
  {
   "cell_type": "code",
   "execution_count": null,
   "metadata": {
    "collapsed": false,
    "scrolled": true
   },
   "outputs": [],
   "source": [
    "burnTime = 10  # seconds\n",
    "totalTime = 100.0 # seconds\n",
    "totalSteps = 1000\n",
    "burnSteps = int(burnTime/totalTime*totalSteps)\n",
    "coastSteps = totalSteps-burnSteps\n",
    "burnTimeLinspace = np.linspace(0,burnTime,burnSteps)\n",
    "totalTimeLinspace = np.linspace(0,totalTime,totalSteps)\n",
    "acc = np.zeros([totalSteps]);\n",
    "vel = np.zeros([totalSteps]);\n",
    "pos = np.zeros([totalSteps]);\n",
    "\n",
    "pos[0] = 2066;\n",
    "acc[0] = -32.174;\n",
    "\n",
    "for i in range(1,burnSteps):\n",
    "    burningBool = True\n",
    "    [acc[i], vel[i], pos[i]] = physStep((i-1)*burnTime/burnSteps,i*burnTime/burnSteps,acc[0],vel[i-1],pos[i-1], burningBool);\n",
    "\n",
    "\n",
    "for i in range(burnSteps,totalSteps):\n",
    "    burningBool = False\n",
    "    [acc[i], vel[i], pos[i]] = physStep((i-1)*totalTime/coastSteps,i*totalTime/coastSteps,acc[0],vel[i-1],pos[i-1], burningBool);\n",
    "\n",
    "print('Max Velocity =', np.max(vel), 'ft/s')\n",
    "print('Max Altitude =', np.max(pos), 'ft')\n",
    "\n",
    "plt.figure(1)\n",
    "plt.grid()\n",
    "plt.title('Acceleration (burn-time only)')\n",
    "plt.xlabel('Time (s)')\n",
    "plt.ylabel('Acceleration (ft/s^2)')\n",
    "plt.plot(burnTimeLinspace,acc[0:burnSteps],'r')\n",
    "\n",
    "plt.figure(2)\n",
    "plt.grid()\n",
    "plt.title('Velocity (burn-time only)')\n",
    "plt.xlabel('Time (s)')\n",
    "plt.ylabel('Velocity (ft/s)')\n",
    "plt.plot(totalTimeLinspace,vel,'b')\n",
    "plt.plot(burnTimeLinspace,vel[0:burnSteps],'r')\n",
    "\n",
    "plt.figure(3)\n",
    "plt.grid()\n",
    "plt.title('Altitude (total time)')\n",
    "plt.xlabel('Time (s)')\n",
    "plt.ylabel('Altitude (ft)')\n",
    "plt.plot(totalTimeLinspace,pos,'b')\n",
    "plt.plot(burnTimeLinspace,pos[0:burnSteps],'r')\n",
    "plt.plot([0,totalTime],[np.max(pos),np.max(pos)], 'k')\n",
    "plt.show()"
   ]
  },
  {
   "cell_type": "code",
   "execution_count": null,
   "metadata": {
    "collapsed": false
   },
   "outputs": [],
   "source": [
    "(sigma0, theta0, delta0) = atmos.calc_pressure(ft_to_m(154000))\n",
    "print(delta0*rho0)"
   ]
  },
  {
   "cell_type": "code",
   "execution_count": null,
   "metadata": {
    "collapsed": true
   },
   "outputs": [],
   "source": []
  }
 ],
 "metadata": {
  "kernelspec": {
   "display_name": "Python 3",
   "language": "python",
   "name": "python3"
  },
  "language_info": {
   "codemirror_mode": {
    "name": "ipython",
    "version": 3
   },
   "file_extension": ".py",
   "mimetype": "text/x-python",
   "name": "python",
   "nbconvert_exporter": "python",
   "pygments_lexer": "ipython3",
   "version": "3.6.0"
  }
 },
 "nbformat": 4,
 "nbformat_minor": 2
}
