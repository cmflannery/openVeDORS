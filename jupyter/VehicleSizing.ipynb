{
 "cells": [
  {
   "cell_type": "code",
   "execution_count": 82,
   "metadata": {
    "collapsed": true
   },
   "outputs": [],
   "source": [
    "import numpy as np\n",
    "import matplotlib.pyplot as plt"
   ]
  },
  {
   "cell_type": "code",
   "execution_count": 83,
   "metadata": {
    "collapsed": false
   },
   "outputs": [],
   "source": [
    "def physStep(t0, t1, a0, v0, x0, burning):\n",
    "    x1 = 0\n",
    "    v1 = 0\n",
    "    a1 = 0\n",
    "    \n",
    "    lx = 1000\n",
    "    lv = 1000\n",
    "    la = 1000\n",
    "    \n",
    "    exhaustVelocity = 9154.2\n",
    "    densityCoefficient = 0.076474252\n",
    "    gravity = 32.174\n",
    "    Tb = 288.15\n",
    "    M0 = 191.5  # wet mass\n",
    "    mdot = 3.51\n",
    "    Cd = 0.5\n",
    "    A = (4/12)**2*np.pi\n",
    "    \n",
    "    while (np.abs(lx-x1) > 1e-6) and (np.abs(lv-v1) > 1e-6) and (np.abs(la-a1) > 1e-6):\n",
    "        lx = x1\n",
    "        lv = v1\n",
    "        la = a1\n",
    "        if burning:\n",
    "            dv = ((exhaustVelocity*np.log(M0/(M0 - mdot*t1)) - gravity*t1 -\n",
    "                  (exhaustVelocity*np.log(M0/(M0 - mdot*t0)) - gravity*t0)) -\n",
    "                    (0.5*Cd*A*v1**2*atmosphericDensity(x1)) +\n",
    "                    (0.5*Cd*A*v0**2*atmosphericDensity(x0)))\n",
    "        else:\n",
    "            dv = (- gravity*t1 + gravity*t0 -\n",
    "                    (0.5*Cd*A*v1**2*atmosphericDensity(x1)) +\n",
    "                    (0.5*Cd*A*v0**2*atmosphericDensity(x0)))\n",
    "        da = a0 + dv / (t1-t0)\n",
    "        v1 = v0 + dv\n",
    "        dx = v1 * (t1-t0)\n",
    "        x1 = x0 + dx\n",
    "        a1 = a0 + da\n",
    "    \n",
    "    #print('here now')\n",
    "    return [a1, v1, x1]"
   ]
  },
  {
   "cell_type": "code",
   "execution_count": null,
   "metadata": {
    "collapsed": true
   },
   "outputs": [],
   "source": []
  },
  {
   "cell_type": "code",
   "execution_count": 84,
   "metadata": {
    "collapsed": true
   },
   "outputs": [],
   "source": [
    "def atmosphericPressure(h):\n",
    "#    Pb, Tb, Lb, hb\n",
    "    Rb = 89494.596\n",
    "    g = 32.1705\n",
    "    M = 28.9644\n",
    "    if h < 36089:\n",
    "        Pb = 101325.00*0.062428\n",
    "        Tb = 288.15\n",
    "        Lb = -0.0019812\n",
    "        hb = 0\n",
    "    elif h < 65617:\n",
    "        Pb = 22632.10*0.062428\n",
    "        Tb = 216.65\n",
    "        hb = 36089\n",
    "        return Pb*math.exp(-g*M*(h - hb)/(Rb*Tb))\n",
    "    elif h < 104987:\n",
    "        Pb = 5474.89*0.062428\n",
    "        Tb = 216.65\n",
    "        Lb = 0.0003048\n",
    "        hb = 65617\n",
    "    elif h < 154199:\n",
    "        Pb = 868.02*0.062428\n",
    "        Tb = 216.65\n",
    "        Lb = 0.00085344\n",
    "        hb = 104987\n",
    "    elif h < 167323:\n",
    "        Pb = 110.91*0.062428\n",
    "        Tb = 270.65\n",
    "        hb = 154199\n",
    "        return Pb*math.exp(-g*M*(h - hb)/(Rb*Tb))\n",
    "    elif h < 232940:\n",
    "        Pb = 66.94*0.062428\n",
    "        Tb = 270.65\n",
    "        Lb = -0.00085344\n",
    "        hb = 167323\n",
    "    else:\n",
    "        Pb = 3.96*0.062428\n",
    "        Tb = 214.65\n",
    "        Lb = -0.0006096\n",
    "        hb = 232940\n",
    "    return Pb*(Tb/(Tb+Lb*(h - hb)))**(1 + g*M/(Rb*Lb))"
   ]
  },
  {
   "cell_type": "code",
   "execution_count": 85,
   "metadata": {
    "collapsed": true
   },
   "outputs": [],
   "source": [
    "def atmosphericDensity(h):\n",
    "    Rb = 89494.596\n",
    "    g = 32.1705\n",
    "    M = 28.9644\n",
    "    if h < 36089:\n",
    "        Pb = 1.2250*0.062428\n",
    "        Tb = 288.15\n",
    "        Lb = -0.0019812\n",
    "        hb = 0\n",
    "    elif h < 65617:\n",
    "        Pb = 22632.10*0.062428\n",
    "        Tb = 216.65\n",
    "        hb = 36089\n",
    "        return Pb*math.exp(-g*M*(h - hb)/(Rb*Tb))\n",
    "    elif h < 104987:\n",
    "        Pb = 5474.89*0.000145038\n",
    "        Tb = 216.65\n",
    "        Lb = 0.0003048\n",
    "        hb = 65617\n",
    "    elif h < 154199:\n",
    "        Pb = 868.02*0.000145038\n",
    "        Tb = 216.65\n",
    "        Lb = 0.00085344\n",
    "        hb = 104987\n",
    "    elif h < 167323:\n",
    "        Pb = 110.91*0.000145038\n",
    "        Tb = 270.65\n",
    "        hb = 154199\n",
    "        return Pb*math.exp(-g*M*(h - hb)/(Rb*Tb))\n",
    "    elif h < 232940:\n",
    "        Pb = 66.94*0.000145038\n",
    "        Tb = 270.65\n",
    "        Lb = -0.00085344\n",
    "        hb = 167323\n",
    "    else:\n",
    "        Pb = 3.96*0.000145038\n",
    "        Tb = 214.65\n",
    "        Lb = -0.0006096\n",
    "        hb = 232940\n",
    "    return Pb*(Tb/(Tb+Lb*(h - hb)))**(g*M/(Rb*Lb))"
   ]
  },
  {
   "cell_type": "code",
   "execution_count": 86,
   "metadata": {
    "collapsed": false
   },
   "outputs": [
    {
     "ename": "KeyboardInterrupt",
     "evalue": "",
     "output_type": "error",
     "traceback": [
      "\u001b[0;31m---------------------------------------------------------------------------\u001b[0m",
      "\u001b[0;31mKeyboardInterrupt\u001b[0m                         Traceback (most recent call last)",
      "\u001b[0;32m<ipython-input-86-ae2894280d0b>\u001b[0m in \u001b[0;36m<module>\u001b[0;34m()\u001b[0m\n\u001b[1;32m     15\u001b[0m \u001b[1;32mfor\u001b[0m \u001b[0mi\u001b[0m \u001b[1;32min\u001b[0m \u001b[0mrange\u001b[0m\u001b[1;33m(\u001b[0m\u001b[1;36m1\u001b[0m\u001b[1;33m,\u001b[0m\u001b[0mburnSteps\u001b[0m\u001b[1;33m)\u001b[0m\u001b[1;33m:\u001b[0m\u001b[1;33m\u001b[0m\u001b[0m\n\u001b[1;32m     16\u001b[0m     \u001b[0mburningBool\u001b[0m \u001b[1;33m=\u001b[0m \u001b[1;32mTrue\u001b[0m\u001b[1;33m\u001b[0m\u001b[0m\n\u001b[0;32m---> 17\u001b[0;31m     \u001b[1;33m[\u001b[0m\u001b[0macc\u001b[0m\u001b[1;33m[\u001b[0m\u001b[0mi\u001b[0m\u001b[1;33m]\u001b[0m\u001b[1;33m,\u001b[0m \u001b[0mvel\u001b[0m\u001b[1;33m[\u001b[0m\u001b[0mi\u001b[0m\u001b[1;33m]\u001b[0m\u001b[1;33m,\u001b[0m \u001b[0mpos\u001b[0m\u001b[1;33m[\u001b[0m\u001b[0mi\u001b[0m\u001b[1;33m]\u001b[0m\u001b[1;33m]\u001b[0m \u001b[1;33m=\u001b[0m \u001b[0mphysStep\u001b[0m\u001b[1;33m(\u001b[0m\u001b[1;33m(\u001b[0m\u001b[0mi\u001b[0m\u001b[1;33m-\u001b[0m\u001b[1;36m1\u001b[0m\u001b[1;33m)\u001b[0m\u001b[1;33m*\u001b[0m\u001b[0mburnTime\u001b[0m\u001b[1;33m/\u001b[0m\u001b[0mburnSteps\u001b[0m\u001b[1;33m,\u001b[0m\u001b[0mi\u001b[0m\u001b[1;33m*\u001b[0m\u001b[0mburnTime\u001b[0m\u001b[1;33m/\u001b[0m\u001b[0mburnSteps\u001b[0m\u001b[1;33m,\u001b[0m\u001b[0macc\u001b[0m\u001b[1;33m[\u001b[0m\u001b[1;36m0\u001b[0m\u001b[1;33m]\u001b[0m\u001b[1;33m,\u001b[0m\u001b[0mvel\u001b[0m\u001b[1;33m[\u001b[0m\u001b[0mi\u001b[0m\u001b[1;33m-\u001b[0m\u001b[1;36m1\u001b[0m\u001b[1;33m]\u001b[0m\u001b[1;33m,\u001b[0m\u001b[0mpos\u001b[0m\u001b[1;33m[\u001b[0m\u001b[0mi\u001b[0m\u001b[1;33m-\u001b[0m\u001b[1;36m1\u001b[0m\u001b[1;33m]\u001b[0m\u001b[1;33m,\u001b[0m \u001b[0mburningBool\u001b[0m\u001b[1;33m)\u001b[0m\u001b[1;33m;\u001b[0m\u001b[1;33m\u001b[0m\u001b[0m\n\u001b[0m\u001b[1;32m     18\u001b[0m \u001b[1;33m\u001b[0m\u001b[0m\n\u001b[1;32m     19\u001b[0m \u001b[1;33m\u001b[0m\u001b[0m\n",
      "\u001b[0;32m<ipython-input-83-f08d4adfc79f>\u001b[0m in \u001b[0;36mphysStep\u001b[0;34m(t0, t1, a0, v0, x0, burning)\u001b[0m\n\u001b[1;32m     24\u001b[0m             dv = ((exhaustVelocity*np.log(M0/(M0 - mdot*t1)) - gravity*t1 -\n\u001b[1;32m     25\u001b[0m                   (exhaustVelocity*np.log(M0/(M0 - mdot*t0)) - gravity*t0)) -\n\u001b[0;32m---> 26\u001b[0;31m                     \u001b[1;33m(\u001b[0m\u001b[1;36m0.5\u001b[0m\u001b[1;33m*\u001b[0m\u001b[0mCd\u001b[0m\u001b[1;33m*\u001b[0m\u001b[0mA\u001b[0m\u001b[1;33m*\u001b[0m\u001b[0mv1\u001b[0m\u001b[1;33m**\u001b[0m\u001b[1;36m2\u001b[0m\u001b[1;33m*\u001b[0m\u001b[0matmosphericDensity\u001b[0m\u001b[1;33m(\u001b[0m\u001b[0mx1\u001b[0m\u001b[1;33m)\u001b[0m\u001b[1;33m)\u001b[0m \u001b[1;33m+\u001b[0m\u001b[1;33m\u001b[0m\u001b[0m\n\u001b[0m\u001b[1;32m     27\u001b[0m                     (0.5*Cd*A*v0**2*atmosphericDensity(x0)))\n\u001b[1;32m     28\u001b[0m         \u001b[1;32melse\u001b[0m\u001b[1;33m:\u001b[0m\u001b[1;33m\u001b[0m\u001b[0m\n",
      "\u001b[0;31mKeyboardInterrupt\u001b[0m: "
     ]
    }
   ],
   "source": [
    "burnTime = 10  # seconds\n",
    "totalTime = 110.0 # seconds\n",
    "totalSteps = 1000\n",
    "coastSteps = totalSteps-burnSteps\n",
    "burnSteps = int(burnTime/totalTime*totalSteps)\n",
    "burnTimeLinspace = np.linspace(0,burnTime,burnSteps)\n",
    "totalTimeLinspace = np.linspace(0,totalTime,totalSteps)\n",
    "acc = np.zeros([totalSteps]);\n",
    "vel = np.zeros([totalSteps]);\n",
    "pos = np.zeros([totalSteps]);\n",
    "\n",
    "pos[0] = 2066;\n",
    "acc[0] = -32.174;\n",
    "\n",
    "for i in range(1,burnSteps):\n",
    "    burningBool = True\n",
    "    [acc[i], vel[i], pos[i]] = physStep((i-1)*burnTime/burnSteps,i*burnTime/burnSteps,acc[0],vel[i-1],pos[i-1], burningBool);\n",
    "\n",
    "\n",
    "for i in range(burnSteps,totalSteps):\n",
    "    burningBool = False\n",
    "    [acc[i], vel[i], pos[i]] = physStep((i-1)*totalTime/coastSteps,i*totalTime/coastSteps,acc[0],vel[i-1],pos[i-1], burningBool);\n",
    "\n",
    "print('Max Velocity =', np.max(vel))\n",
    "print('Max Altitude =', np.max(pos))\n",
    "\n",
    "plt.figure(1)\n",
    "plt.grid()\n",
    "plt.title('Acceleration (burn-time only)')\n",
    "plt.xlabel('Time (s)')\n",
    "plt.ylabel('Acceleration (f/s^2)')\n",
    "plt.plot(burnTimeLinspace,acc[0:burnSteps],'r')\n",
    "\n",
    "plt.figure(2)\n",
    "plt.grid()\n",
    "plt.title('Velocity (burn-time only)')\n",
    "plt.xlabel('Time (s)')\n",
    "plt.ylabel('Velocity (f/s)')\n",
    "plt.plot(burnTimeLinspace,vel[0:burnSteps],'r')\n",
    "\n",
    "plt.figure(3)\n",
    "plt.grid()\n",
    "plt.title('Altitude (total time)')\n",
    "plt.xlabel('Time (s)')\n",
    "plt.ylabel('Altitude (feet)')\n",
    "plt.plot(totalTimeLinspace,pos,'b')\n",
    "plt.plot(burnTimeLinspace,pos[0:burnSteps],'r')\n",
    "plt.plot([0,totalTime],[np.max(pos),np.max(pos)], 'k')\n",
    "plt.show()\n"
   ]
  },
  {
   "cell_type": "code",
   "execution_count": null,
   "metadata": {
    "collapsed": true
   },
   "outputs": [],
   "source": []
  }
 ],
 "metadata": {
  "kernelspec": {
   "display_name": "Python 3",
   "language": "python",
   "name": "python3"
  },
  "language_info": {
   "codemirror_mode": {
    "name": "ipython",
    "version": 3
   },
   "file_extension": ".py",
   "mimetype": "text/x-python",
   "name": "python",
   "nbconvert_exporter": "python",
   "pygments_lexer": "ipython3",
   "version": "3.6.0"
  }
 },
 "nbformat": 4,
 "nbformat_minor": 2
}
