{
 "cells": [
  {
   "cell_type": "code",
   "execution_count": 3,
   "metadata": {
    "collapsed": true
   },
   "outputs": [],
   "source": [
    "import numpy as np\n",
    "import matplotlib.pyplot as plt"
   ]
  },
  {
   "cell_type": "code",
   "execution_count": 77,
   "metadata": {
    "collapsed": false
   },
   "outputs": [],
   "source": [
    "def physStep(t0, t1, a0, v0, x0, burning):\n",
    "    x1 = 0\n",
    "    v1 = 0\n",
    "    a1 = 0\n",
    "    \n",
    "    lx = 1000\n",
    "    lv = 1000\n",
    "    la = 1000\n",
    "    \n",
    "    exhaustVelocity = 9154.2\n",
    "    densityCoefficient = 0.076474252\n",
    "    gravity = 32.174\n",
    "    Tb = 288.15\n",
    "    M0 = 191.5  # wet mass\n",
    "    mdot = 3.51\n",
    "    \n",
    "    while (np.abs(lx-x1) > 1e-6) and (np.abs(lv-v1) > 1e-6) and (np.abs(la-a1) > 1e-6):\n",
    "        lx = x1\n",
    "        lv = v1\n",
    "        la = a1\n",
    "        if burning:\n",
    "            dv = (exhaustVelocity*np.log(M0/(M0 - mdot*t1)) - gravity*t1 -\n",
    "                  (exhaustVelocity*np.log(M0/(M0 - mdot*t0)) - gravity*t0))\n",
    "        else:\n",
    "            dv = - gravity*t1 + gravity*t0\n",
    "        da = a0 + dv / (t1-t0)\n",
    "        v1 = v0 + dv\n",
    "        dx = v1 * (t1-t0)\n",
    "        x1 = x0 + dx\n",
    "        a1 = a0 + da\n",
    "        \n",
    "    return [a1, v1, x1]"
   ]
  },
  {
   "cell_type": "code",
   "execution_count": null,
   "metadata": {
    "collapsed": false
   },
   "outputs": [
    {
     "name": "stdout",
     "output_type": "stream",
     "text": [
      "Max Velocity = 1512.49618287\n",
      "Max Altitude = 44795.026242\n"
     ]
    },
    {
     "data": {
      "image/png": "[encoded data removed]",
      "text/plain": [
       "<matplotlib.figure.Figure at 0x117ad2080>"
      ]
     },
     "metadata": {},
     "output_type": "display_data"
    }
   ],
   "source": [
    "burnTime = 10  # seconds\n",
    "totalTime = 110.0 # seconds\n",
    "totalSteps = 1000\n",
    "burnSteps = int(burnTime/totalTime*totalSteps)\n",
    "burnTimeLinspace = np.linspace(0,burnTime,burnSteps)\n",
    "totalTimeLinspace = np.linspace(0,totalTime,totalSteps)\n",
    "acc = np.zeros([totalSteps]);\n",
    "vel = np.zeros([totalSteps]);\n",
    "pos = np.zeros([totalSteps]);\n",
    "\n",
    "pos[0] = 2066;\n",
    "acc[0] = -32.174;\n",
    "\n",
    "for i in range(1,burnSteps):\n",
    "    burningBool = True\n",
    "    [acc[i], vel[i], pos[i]] = physStep((i-1)*burnTime/burnSteps,i*burnTime/burnSteps,acc[0],vel[i-1],pos[i-1], burningBool);\n",
    "\n",
    "\n",
    "for i in range(burnSteps,totalSteps):\n",
    "    burningBool = False\n",
    "    [acc[i], vel[i], pos[i]] = physStep((i-1)*totalTime/coastSteps,i*totalTime/coastSteps,acc[0],vel[i-1],pos[i-1], burningBool);\n",
    "\n",
    "print('Max Velocity =', np.max(vel))\n",
    "print('Max Altitude =', np.max(pos))\n",
    "    \n",
    "plt.figure(1)\n",
    "plt.grid()\n",
    "plt.title('Acceleration (burn-time only)')\n",
    "plt.xlabel('Time (s)')\n",
    "plt.ylabel('Acceleration (f/s^2)')\n",
    "plt.plot(burnTimeLinspace,acc[0:burnSteps],'r')\n",
    "\n",
    "plt.figure(2)\n",
    "plt.grid()\n",
    "plt.title('Velocity (burn-time only)')\n",
    "plt.xlabel('Time (s)')\n",
    "plt.ylabel('Velocity (f/s)')\n",
    "plt.plot(burnTimeLinspace,vel[0:burnSteps],'r')\n",
    "\n",
    "plt.figure(3)\n",
    "plt.grid()\n",
    "plt.title('Altitude (total time)')\n",
    "plt.xlabel('Time (s)')\n",
    "plt.ylabel('Altitude (feet)')\n",
    "plt.plot(totalTimeLinspace,pos,'b')\n",
    "plt.plot(burnTimeLinspace,pos[0:burnSteps],'r')\n",
    "plt.plot([0,totalTime],[np.max(pos),np.max(pos)], 'k')\n",
    "plt.show()"
   ]
  },
  {
   "cell_type": "code",
   "execution_count": null,
   "metadata": {
    "collapsed": true
   },
   "outputs": [],
   "source": []
  }
 ],
 "metadata": {
  "kernelspec": {
   "display_name": "Python 3",
   "language": "python",
   "name": "python3"
  },
  "language_info": {
   "codemirror_mode": {
    "name": "ipython",
    "version": 3
   },
   "file_extension": ".py",
   "mimetype": "text/x-python",
   "name": "python",
   "nbconvert_exporter": "python",
   "pygments_lexer": "ipython3",
   "version": "3.6.0"
  }
 },
 "nbformat": 4,
 "nbformat_minor": 2
}
